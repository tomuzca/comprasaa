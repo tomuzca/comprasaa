{
 "cells": [
  {
   "cell_type": "code",
   "execution_count": 1,
   "metadata": {},
   "outputs": [],
   "source": [
    "import pandas as pd\n",
    "\n",
    "# Cargar el archivo Excel en un DataFrame\n",
    "excel_file_path = 'PyPallets.xlsx'\n",
    "df = pd.read_excel(excel_file_path)\n",
    "\n",
    "# Guardar el DataFrame como un archivo CSV\n",
    "csv_file_path = 'pypallets.csv'\n",
    "df.to_csv(csv_file_path, index=False)"
   ]
  },
  {
   "cell_type": "code",
   "execution_count": 6,
   "metadata": {},
   "outputs": [
    {
     "name": "stdout",
     "output_type": "stream",
     "text": [
      "Archivos Excel generados correctamente.\n"
     ]
    }
   ],
   "source": [
    "import pandas as pd\n",
    "\n",
    "# Cargar datos desde el archivo CSV\n",
    "archivo_csv = 'df_solicitudes.csv'  # Reemplaza con la ruta correcta de tu archivo CSV\n",
    "df = pd.read_csv(archivo_csv)\n",
    "\n",
    "# Agrupar por proveedor\n",
    "grupos_proveedor = df.groupby('Proveedor')\n",
    "\n",
    "# Iterar sobre los grupos y guardar en archivos Excel\n",
    "for proveedor, grupo in grupos_proveedor:\n",
    "    # Seleccionar las columnas necesarias\n",
    "    datos_proveedor = grupo[['Cantidad Solicitada', 'Material', 'OC', 'Fecha']]\n",
    "\n",
    "    # Crear un DataFrame para el proveedor actual\n",
    "    df_proveedor = pd.DataFrame(datos_proveedor)\n",
    "\n",
    "    # Crear el nombre del archivo Excel\n",
    "    nombre_archivo = f'{proveedor}_solicitudes.xlsx'\n",
    "\n",
    "    # Guardar el DataFrame en un archivo Excel\n",
    "    df_proveedor.to_excel(nombre_archivo, index=False)\n",
    "\n",
    "print(\"Archivos Excel generados correctamente.\")"
   ]
  },
  {
   "cell_type": "code",
   "execution_count": 2,
   "metadata": {},
   "outputs": [
    {
     "name": "stdout",
     "output_type": "stream",
     "text": [
      "Proceso completado. \n"
     ]
    }
   ],
   "source": [
    "import pandas as pd\n",
    "\n",
    "# Cargar el archivo CSV\n",
    "df = pd.read_csv('df_solicitudes.csv', nrows=1)\n",
    "\n",
    "# Guardar el DataFrame con solo la primera fila (nombres de las columnas)\n",
    "df.to_csv('df_solicitudes.csv', index=False)\n",
    "\n",
    "print(\"Proceso completado. \")\n"
   ]
  },
  {
   "cell_type": "code",
   "execution_count": 3,
   "metadata": {},
   "outputs": [
    {
     "name": "stdout",
     "output_type": "stream",
     "text": [
      "<class 'pandas.core.frame.DataFrame'>\n",
      "RangeIndex: 1 entries, 0 to 0\n",
      "Data columns (total 6 columns):\n",
      " #   Column               Non-Null Count  Dtype  \n",
      "---  ------               --------------  -----  \n",
      " 0   Unnamed: 0           1 non-null      float64\n",
      " 1   Material             1 non-null      object \n",
      " 2   OC                   1 non-null      int64  \n",
      " 3   Proveedor            1 non-null      object \n",
      " 4   Cantidad Solicitada  1 non-null      int64  \n",
      " 5   Fecha                1 non-null      object \n",
      "dtypes: float64(1), int64(2), object(3)\n",
      "memory usage: 180.0+ bytes\n"
     ]
    }
   ],
   "source": [
    "df.info()"
   ]
  },
  {
   "cell_type": "code",
   "execution_count": 2,
   "metadata": {},
   "outputs": [],
   "source": [
    "import pandas as pd\n",
    "\n",
    "df = pd.read_csv('df_solicitudes.csv')\n",
    "\n",
    "# Convierte y guarda en un archivo Excel\n",
    "df.to_excel('solicitudes_s6.xlsx', index=False)"
   ]
  },
  {
   "cell_type": "code",
   "execution_count": 14,
   "metadata": {},
   "outputs": [
    {
     "name": "stdout",
     "output_type": "stream",
     "text": [
      "Saldos negativos encontrados:\n",
      "        Solped          OC                            Proveedor  \\\n",
      "30  6100005399  5100007737           77256239K  La & Perven SPA   \n",
      "66  6100005264  5100007593  770835127  SOCIEDAD COMERCIAL PROTI   \n",
      "\n",
      "                      Material_pypallets  Saldo  Unnamed: 0  \\\n",
      "30   Pallet Madera Poste 600x1070x115 NA  -25.0         NaN   \n",
      "66  Pallet Madera 4GP 2080x2530x178 Cert  -25.0         NaN   \n",
      "\n",
      "                    Material_solicitudes  Cantidad Solicitada       Fecha  \n",
      "30   Pallet Madera CHEP 1000x1200x157 NA                100.0  2024-01-31  \n",
      "66  Pallet Madera MP240 2380x2530x178 NA                 25.0  2024-02-01  \n",
      "Se ha generado un archivo con saldos negativos: saldos_negativos.xlsx\n"
     ]
    }
   ],
   "source": [
    "import pandas as pd\n",
    "import sqlite3\n",
    "\n",
    "# Cargar los datos de los archivos Excel\n",
    "df_solicitudes = pd.read_csv('Solsem7.csv')\n",
    "df_pypallets = pd.read_excel('pypallets.xlsx')\n",
    "\n",
    "# Realizar la operación de resta solo para las filas que tienen correspondencia con la OC\n",
    "df_resultado = pd.merge(df_pypallets, df_solicitudes, on=['Proveedor', 'OC'], how='left', suffixes=('_pypallets', '_solicitudes'))\n",
    "df_resultado['Saldo'] = df_resultado['Saldo'] - df_resultado['Cantidad Solicitada']\n",
    "\n",
    "# Verificar si hay saldos negativos\n",
    "saldos_negativos = df_resultado[df_resultado['Saldo'] < 0]\n",
    "\n",
    "if saldos_negativos.empty:\n",
    "    # Si no hay saldos negativos, crear un archivo Excel por cada proveedor\n",
    "    for proveedor, grupo in df_resultado.groupby('Proveedor'):\n",
    "        archivo_proveedor = f'{proveedor}_resultados.xlsx'\n",
    "        grupo.to_excel(archivo_proveedor, index=False)\n",
    "        print(f'Se ha generado un archivo para {proveedor}: {archivo_proveedor}')\n",
    "\n",
    "    # Generar el archivo pypallets_s6 y actualizar la base de datos\n",
    "    df_resultado.to_excel('pypallets_s6.xlsx', index=False)\n",
    "    conn = sqlite3.connect('base.db')\n",
    "    df_resultado.to_sql('tabla_saldos', conn, if_exists='replace', index=False)\n",
    "    conn.close()\n",
    "\n",
    "    print('Se ha generado el archivo pypallets_s6.xlsx y actualizado la base de datos.')\n",
    "\n",
    "else:\n",
    "    # Si hay saldos negativos, mostrar cuáles son\n",
    "    print('Saldos negativos encontrados:')\n",
    "    print(saldos_negativos)\n",
    "\n",
    "    # También puedes guardar los saldos negativos en un archivo Excel si lo deseas\n",
    "    saldos_negativos.to_excel('saldos_negativos.xlsx', index=False)\n",
    "    print('Se ha generado un archivo con saldos negativos: saldos_negativos.xlsx')\n"
   ]
  },
  {
   "cell_type": "code",
   "execution_count": 4,
   "metadata": {},
   "outputs": [
    {
     "name": "stdout",
     "output_type": "stream",
     "text": [
      "Se ha creado el archivo 770835127  SOCIEDAD COMERCIAL PROTI_solicitudes.xlsx para el proveedor 770835127  SOCIEDAD COMERCIAL PROTI.\n",
      "Se ha creado el archivo 767289502  Madepal SPA_solicitudes.xlsx para el proveedor 767289502  Madepal SPA.\n",
      "Se ha creado el archivo 77256239K  La & Perven SPA_solicitudes.xlsx para el proveedor 77256239K  La & Perven SPA.\n"
     ]
    }
   ],
   "source": [
    "import pandas as pd\n",
    "\n",
    "# Leer el archivo CSV\n",
    "df = pd.read_csv('Solsem7.csv')\n",
    "\n",
    "# Obtener la lista única de proveedores\n",
    "proveedores = df['Proveedor'].unique()\n",
    "\n",
    "# Crear un archivo Excel para cada proveedor\n",
    "for proveedor in proveedores:\n",
    "    # Filtrar el DataFrame por proveedor\n",
    "    df_proveedor = df[df['Proveedor'] == proveedor]\n",
    "\n",
    "    # Crear un nombre de archivo Excel para el proveedor\n",
    "    nombre_archivo = f'{proveedor}_solicitudes.xlsx'\n",
    "\n",
    "    # Guardar el DataFrame filtrado en un archivo Excel\n",
    "    df_proveedor.to_excel(nombre_archivo, index=False)\n",
    "\n",
    "    print(f'Se ha creado el archivo {nombre_archivo} para el proveedor {proveedor}.')\n"
   ]
  }
 ],
 "metadata": {
  "kernelspec": {
   "display_name": "Python 3",
   "language": "python",
   "name": "python3"
  },
  "language_info": {
   "codemirror_mode": {
    "name": "ipython",
    "version": 3
   },
   "file_extension": ".py",
   "mimetype": "text/x-python",
   "name": "python",
   "nbconvert_exporter": "python",
   "pygments_lexer": "ipython3",
   "version": "3.11.7"
  }
 },
 "nbformat": 4,
 "nbformat_minor": 2
}
