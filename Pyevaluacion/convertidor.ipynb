import pandas as pd
import sqlite3

me2l_df = pd.read_excel('ME2L_acmanet010224.xlsx')
mb51_df = pd.read_excel('MB51acmanet0102.xlsx')

conn = sqlite3.connect('OC_data.db')

me2l_df.to_sql('me2l', conn, if_exists='replace', index=False)
mb51_df.to_sql('mb51', conn, if_exists='replace', index=False)

query = """
        SELECT 
            me2l."Nombre del proveedor",
            me2l."OC",
            me2l."Fecha de entrega",
            mb51."Fecha",
            mb51."Texto breve",
            me2l."Cantidad de pedido",
            mb51."Cantidad"
        FROM 
            me2l
        JOIN 
            mb51 
        ON 
            me2l.OC = mb51.OC
        GROUP BY 
            me2l.OC, mb51."Texto breve"
        """

result_df = pd.read_sql(query, conn)

conn.close()

result_df = result_df.drop_duplicates()

excel_file_name = 'prueba3.xlsx'

result_df.to_excel(excel_file_name, index=False)

print(f"Se ha guardado el archivo Excel como '{excel_file_name}'")
